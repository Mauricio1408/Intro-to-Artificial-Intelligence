{
 "cells": [
  {
   "attachments": {},
   "cell_type": "markdown",
   "metadata": {},
   "source": [
    "Creating an Adjacency List to store Graph Nodes\n",
    "Used a dictionary to store nodes and set the values to the neighbors of the node"
   ]
  },
  {
   "cell_type": "code",
   "execution_count": 10,
   "metadata": {},
   "outputs": [],
   "source": [
    "adj_list = {\"A\":[\"B\", \"C\"],\n",
    "            \"B\":[\"A\", \"C\", \"D\"],\n",
    "            \"C\":[\"A\", \"B\", \"D\"],\n",
    "            \"D\":[\"C\", \"B\", \"E\"],\n",
    "            \"E\":[\"B\", \"D\"]}"
   ]
  },
  {
   "cell_type": "code",
   "execution_count": 2,
   "metadata": {},
   "outputs": [
    {
     "name": "stdout",
     "output_type": "stream",
     "text": [
      "{'A': ['B', 'C'], 'B': ['A', 'C', 'D'], 'C': ['A', 'B', 'D'], 'D': ['C', 'B', 'E'], 'E': ['B', 'D']}\n"
     ]
    }
   ],
   "source": [
    "print(adj_list)"
   ]
  },
  {
   "cell_type": "code",
   "execution_count": 3,
   "metadata": {},
   "outputs": [
    {
     "name": "stdout",
     "output_type": "stream",
     "text": [
      "['B', 'C']\n"
     ]
    }
   ],
   "source": [
    "print(adj_list[\"A\"])"
   ]
  },
  {
   "cell_type": "code",
   "execution_count": 11,
   "metadata": {},
   "outputs": [
    {
     "name": "stdout",
     "output_type": "stream",
     "text": [
      "{'A': ['B', 'C', 'D'], 'B': ['A', 'C', 'D'], 'C': ['A', 'B', 'D'], 'D': ['C', 'B', 'E', 'A'], 'E': ['B', 'D']}\n"
     ]
    }
   ],
   "source": [
    "adj_list[\"A\"].append(\"D\")\n",
    "adj_list[\"D\"].append(\"A\")\n",
    "print(adj_list)"
   ]
  },
  {
   "cell_type": "code",
   "execution_count": 1,
   "metadata": {},
   "outputs": [
    {
     "name": "stdout",
     "output_type": "stream",
     "text": [
      "Initial State: ['A']\n",
      "\n",
      "path: A\n",
      "node: A\n",
      "possible paths: ['A', 'B']\n",
      "queue: [['A', 'B']]\n",
      "\n",
      "possible paths: ['A', 'C']\n",
      "queue: [['A', 'B'], ['A', 'C']]\n",
      "\n",
      "path: ['A', 'B']\n",
      "node: B\n",
      "possible paths: ['A', 'B', 'D']\n",
      "queue: [['A', 'C'], ['A', 'B', 'D']]\n",
      "\n",
      "possible paths: ['A', 'B', 'E']\n",
      "queue: [['A', 'C'], ['A', 'B', 'D'], ['A', 'B', 'E']]\n",
      "\n",
      "path: ['A', 'C']\n",
      "node: C\n",
      "possible paths: ['A', 'C', 'F']\n",
      "queue: [['A', 'B', 'D'], ['A', 'B', 'E'], ['A', 'C', 'F']]\n",
      "\n",
      "path: ['A', 'B', 'D']\n",
      "node: D\n",
      "path: ['A', 'B', 'E']\n",
      "node: E\n",
      "possible paths: ['A', 'B', 'E', 'F']\n",
      "queue: [['A', 'C', 'F'], ['A', 'B', 'E', 'F']]\n",
      "\n",
      "path: ['A', 'C', 'F']\n",
      "node: F\n",
      "Path from A to F : ['A', 'C', 'F']\n"
     ]
    }
   ],
   "source": [
    "def find_path(graph, start, goal):\n",
    "    # Create a queue for BFS and initialize it with the start node\n",
    "    queue = [start]\n",
    "    print(\"Initial State:\", queue, end=\"\\n\\n\")\n",
    "\n",
    "    while queue:\n",
    "        path = queue.pop(0)\n",
    "        print(\"path:\", path)\n",
    "        node = path[-1]\n",
    "        print(\"node:\", node)\n",
    "\n",
    "        if node == goal:\n",
    "            return path  # Found a path from start to goal\n",
    "\n",
    "        for neighbor in graph.get(node, []):\n",
    "            if neighbor not in path:\n",
    "                new_path = list(path)  # Create a new path to avoid modifying the existing path\n",
    "                new_path.append(neighbor)\n",
    "                print(\"possible paths:\", new_path)\n",
    "                queue.append(new_path)\n",
    "                print(\"queue:\", queue,end=\"\\n\\n\")\n",
    "\n",
    "    return None  # No path from start to goal found\n",
    "\n",
    "# Example graph representation as a dictionary\n",
    "graph = {\n",
    "    'A': ['B', 'C'],\n",
    "    'B': ['D', 'E'],\n",
    "    'C': ['F'],\n",
    "    'D': [],\n",
    "    'E': ['F'],\n",
    "    'F': []\n",
    "}\n",
    "\n",
    "start_node = 'A'\n",
    "goal_node = 'F'\n",
    "path = find_path(graph, start_node, goal_node)\n",
    "\n",
    "if path:\n",
    "    print(\"Path from\", start_node, \"to\", goal_node, \":\", path)\n",
    "else:\n",
    "    print(\"No path found from\", start_node, \"to\", goal_node)\n"
   ]
  },
  {
   "cell_type": "code",
   "execution_count": null,
   "metadata": {},
   "outputs": [],
   "source": []
  }
 ],
 "metadata": {
  "kernelspec": {
   "display_name": "Python 3",
   "language": "python",
   "name": "python3"
  },
  "language_info": {
   "codemirror_mode": {
    "name": "ipython",
    "version": 3
   },
   "file_extension": ".py",
   "mimetype": "text/x-python",
   "name": "python",
   "nbconvert_exporter": "python",
   "pygments_lexer": "ipython3",
   "version": "3.11.1"
  },
  "orig_nbformat": 4
 },
 "nbformat": 4,
 "nbformat_minor": 2
}
