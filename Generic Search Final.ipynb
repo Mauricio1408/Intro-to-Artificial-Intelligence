{
 "cells": [
  {
   "attachments": {},
   "cell_type": "markdown",
   "metadata": {},
   "source": [
    "Generic Search using Breadth-first algorithm\n",
    "obj: return the path starting from the initial state (s) to the goal state (g),\n",
    "     otherwise, return nothing."
   ]
  },
  {
   "cell_type": "code",
   "execution_count": 9,
   "metadata": {},
   "outputs": [],
   "source": [
    "#creating a dictionary for the graph\n",
    "graph = {'A': ['B', 'C'],\n",
    "         'B': [ 'D', 'E'],\n",
    "         'C': ['D'],\n",
    "         'D': [ 'E'],\n",
    "         'E': []    }\n",
    "\n",
    "initial_state = 'A'\n",
    "goal_state = 'E'"
   ]
  },
  {
   "cell_type": "code",
   "execution_count": 16,
   "metadata": {},
   "outputs": [],
   "source": [
    "#def for the generic search algorithm\n",
    "def SEARCH(graph, s, g):\n",
    "    #created a list that starts with the initial state (s)\n",
    "    frontier = [s]\n",
    "\n",
    "    while frontier:\n",
    "\n",
    "        #get the 1st element and store it in the variable 'path' \n",
    "        path = frontier.pop(0)\n",
    "\n",
    "        #setting the 'node' variable with the rightmost value \n",
    "        node = path[-1]\n",
    "        \n",
    "        #Check to see if the node is the goal state (g), returns the path if true\n",
    "        if node == g:\n",
    "            return path\n",
    "        \n",
    "        #look for the neighbors of the nodes\n",
    "        for neighbor in graph.get(node, []):\n",
    "\n",
    "            if neighbor not in path:\n",
    "                #created a list called 'new_list that copies the initial path\n",
    "                new_list = list(path)\n",
    "                #appended the neighbor to new_list\n",
    "                new_list.append(neighbor)\n",
    "                #appended new_list to frontier list\n",
    "                frontier.append(new_list)\n",
    "\n",
    "    return None #if the goal state is not found"
   ]
  },
  {
   "cell_type": "code",
   "execution_count": 19,
   "metadata": {},
   "outputs": [
    {
     "name": "stdout",
     "output_type": "stream",
     "text": [
      "Found: ['A', 'B', 'E']\n"
     ]
    }
   ],
   "source": [
    "result_path = SEARCH(graph, initial_state, goal_state)\n",
    "if result_path:\n",
    "    print(\"Found:\", result_path)"
   ]
  },
  {
   "cell_type": "code",
   "execution_count": 18,
   "metadata": {},
   "outputs": [
    {
     "name": "stdout",
     "output_type": "stream",
     "text": [
      "Path from A to F : ['A', 'C', 'F']\n"
     ]
    }
   ],
   "source": [
    "#created another dictionary\n",
    "graph2 = {\n",
    "    'A': ['B', 'C'],\n",
    "    'B': ['D', 'E'],\n",
    "    'C': ['F'],\n",
    "    'D': [],\n",
    "    'E': ['F'],\n",
    "    'F': []\n",
    "}\n",
    "\n",
    "start_node = 'A'\n",
    "goal_node = 'F'\n",
    "\n",
    "#checking if goal_node can be found\n",
    "search = SEARCH(graph2, start_node, goal_node)\n",
    "\n",
    "if search:\n",
    "     print(\"Path from\", start_node, \"to\", goal_node, \":\", search)\n",
    "else:\n",
    "    print(\"No path found from\", start_node, \"to\", goal_node)"
   ]
  }
 ],
 "metadata": {
  "kernelspec": {
   "display_name": "Python 3",
   "language": "python",
   "name": "python3"
  },
  "language_info": {
   "codemirror_mode": {
    "name": "ipython",
    "version": 3
   },
   "file_extension": ".py",
   "mimetype": "text/x-python",
   "name": "python",
   "nbconvert_exporter": "python",
   "pygments_lexer": "ipython3",
   "version": "3.11.1"
  },
  "orig_nbformat": 4
 },
 "nbformat": 4,
 "nbformat_minor": 2
}
